{
  "nbformat": 4,
  "nbformat_minor": 0,
  "metadata": {
    "colab": {
      "provenance": []
    },
    "kernelspec": {
      "name": "python3",
      "display_name": "Python 3"
    },
    "language_info": {
      "name": "python"
    }
  },
  "cells": [
    {
      "cell_type": "code",
      "execution_count": null,
      "metadata": {
        "id": "KFAIka3oT9Lg"
      },
      "outputs": [],
      "source": [
        "# importing basic libraries\n",
        "import numpy as np\n",
        "import pandas as pd\n",
        "import matplotlib.pyplot as plt"
      ]
    },
    {
      "cell_type": "code",
      "source": [
        "# loading the dataset\n",
        "df = pd.read_csv(\"movieratings.csv\")\n",
        "print(df.head)"
      ],
      "metadata": {
        "colab": {
          "base_uri": "https://localhost:8080/"
        },
        "id": "7mBj11o1Ubcf",
        "outputId": "bdfcbfbc-d6a2-463b-ad4c-e02496f4a2cf"
      },
      "execution_count": null,
      "outputs": [
        {
          "output_type": "stream",
          "name": "stdout",
          "text": [
            "<bound method NDFrame.head of                                                     text  label\n",
            "0      I grew up (b. 1965) watching and loving the Th...      0\n",
            "1      When I put this movie in my DVD player, and sa...      0\n",
            "2      Why do people who do not know what a particula...      0\n",
            "3      Even though I have great interest in Biblical ...      0\n",
            "4      Im a die hard Dads Army fan and nothing will e...      1\n",
            "...                                                  ...    ...\n",
            "39995  \"Western Union\" is something of a forgotten cl...      1\n",
            "39996  This movie is an incredible piece of work. It ...      1\n",
            "39997  My wife and I watched this movie because we pl...      0\n",
            "39998  When I first watched Flatliners, I was amazed....      1\n",
            "39999  Why would this film be so good, but only gross...      1\n",
            "\n",
            "[40000 rows x 2 columns]>\n"
          ]
        }
      ]
    },
    {
      "cell_type": "code",
      "source": [
        "# looking for duplicates and removing if any\n",
        "duplicates = df[df.duplicated()]\n",
        "print(f\"total duplicate rows: {len(duplicates)}\")\n",
        "df = df.drop_duplicates()\n",
        "duplicates = df[df.duplicated()]\n",
        "print(f\"total duplicate rows: {len(duplicates)}\")"
      ],
      "metadata": {
        "colab": {
          "base_uri": "https://localhost:8080/"
        },
        "id": "9_YwPF_dVD7O",
        "outputId": "011e8a29-0c86-431b-fb45-070984609004"
      },
      "execution_count": null,
      "outputs": [
        {
          "output_type": "stream",
          "name": "stdout",
          "text": [
            "Total duplicate rows: 277\n",
            "Total duplicate rows: 0\n"
          ]
        }
      ]
    },
    {
      "cell_type": "markdown",
      "source": [
        "removed duplicate rows"
      ],
      "metadata": {
        "id": "FS796c2TW5ty"
      }
    },
    {
      "cell_type": "code",
      "source": [
        "# checking for nan values\n",
        "nan_values = df.isna().sum().sum()\n",
        "print(f\"nan values : {nan_values}\")"
      ],
      "metadata": {
        "colab": {
          "base_uri": "https://localhost:8080/"
        },
        "id": "M-B7zszaVski",
        "outputId": "f9950e9a-a4e9-47f3-c172-4dad54cfeefb"
      },
      "execution_count": null,
      "outputs": [
        {
          "output_type": "stream",
          "name": "stdout",
          "text": [
            "nan values : 0\n"
          ]
        }
      ]
    },
    {
      "cell_type": "markdown",
      "source": [
        "no nan values"
      ],
      "metadata": {
        "id": "2yaCiVfLW4sF"
      }
    },
    {
      "cell_type": "code",
      "source": [
        "# checking for label uniqueness\n",
        "print(f\"unique labels : {df['label'].unique()}\")"
      ],
      "metadata": {
        "colab": {
          "base_uri": "https://localhost:8080/"
        },
        "id": "aACouSn2WCvQ",
        "outputId": "80106826-baf6-4839-fdff-98e0df742895"
      },
      "execution_count": null,
      "outputs": [
        {
          "output_type": "stream",
          "name": "stdout",
          "text": [
            "unique labels : [0 1]\n"
          ]
        }
      ]
    },
    {
      "cell_type": "markdown",
      "source": [
        "only two unique labels : 0,1"
      ],
      "metadata": {
        "id": "JkIgIc6mW2M4"
      }
    },
    {
      "cell_type": "code",
      "source": [
        "# checking if the data is balanced\n",
        "df[\"label\"].value_counts()"
      ],
      "metadata": {
        "colab": {
          "base_uri": "https://localhost:8080/",
          "height": 178
        },
        "id": "okf49MptWO28",
        "outputId": "baadc13c-6e1f-4e9a-f027-4d9f9efbcfe9"
      },
      "execution_count": null,
      "outputs": [
        {
          "output_type": "execute_result",
          "data": {
            "text/plain": [
              "label\n",
              "1    19908\n",
              "0    19815\n",
              "Name: count, dtype: int64"
            ],
            "text/html": [
              "<div>\n",
              "<style scoped>\n",
              "    .dataframe tbody tr th:only-of-type {\n",
              "        vertical-align: middle;\n",
              "    }\n",
              "\n",
              "    .dataframe tbody tr th {\n",
              "        vertical-align: top;\n",
              "    }\n",
              "\n",
              "    .dataframe thead th {\n",
              "        text-align: right;\n",
              "    }\n",
              "</style>\n",
              "<table border=\"1\" class=\"dataframe\">\n",
              "  <thead>\n",
              "    <tr style=\"text-align: right;\">\n",
              "      <th></th>\n",
              "      <th>count</th>\n",
              "    </tr>\n",
              "    <tr>\n",
              "      <th>label</th>\n",
              "      <th></th>\n",
              "    </tr>\n",
              "  </thead>\n",
              "  <tbody>\n",
              "    <tr>\n",
              "      <th>1</th>\n",
              "      <td>19908</td>\n",
              "    </tr>\n",
              "    <tr>\n",
              "      <th>0</th>\n",
              "      <td>19815</td>\n",
              "    </tr>\n",
              "  </tbody>\n",
              "</table>\n",
              "</div><br><label><b>dtype:</b> int64</label>"
            ]
          },
          "metadata": {},
          "execution_count": 19
        }
      ]
    },
    {
      "cell_type": "markdown",
      "source": [
        "Data not imbalanced clearly"
      ],
      "metadata": {
        "id": "oVvN6O4eWyXw"
      }
    },
    {
      "cell_type": "code",
      "source": [
        "# checking if there's a relation between the length of review and label\n",
        "df['len_reviews'] = df['text'].apply(lambda x: len(x.split()))\n",
        "plt.scatter(df['len_reviews'], df['label'], alpha = 0.5)\n",
        "plt.show()"
      ],
      "metadata": {
        "colab": {
          "base_uri": "https://localhost:8080/",
          "height": 430
        },
        "id": "ITBUJ8A0WxDN",
        "outputId": "e1207389-6db2-421e-a0a4-baa71f64c1fa"
      },
      "execution_count": null,
      "outputs": [
        {
          "output_type": "display_data",
          "data": {
            "text/plain": [
              "<Figure size 640x480 with 1 Axes>"
            ],
            "image/png": "[encoded data removed]"
          },
          "metadata": {}
        }
      ]
    },
    {
      "cell_type": "markdown",
      "source": [
        "no clear relation between length of text and label"
      ],
      "metadata": {
        "id": "Ubt_9096YR7V"
      }
    },
    {
      "cell_type": "code",
      "source": [
        "# removing stopwords\n",
        "import nltk\n",
        "from nltk.corpus import stopwords\n",
        "from nltk.tokenize import word_tokenize\n",
        "\n",
        "nltk.download('punkt')\n",
        "nltk.download('punkt_tab')\n",
        "nltk.download('stopwords')\n",
        "\n",
        "stop_words = set(stopwords.words('english'))\n",
        "\n",
        "def remove_stopwords(text):\n",
        "    words = word_tokenize(text.lower())  # tokenize and lowercase\n",
        "    filtered = [word for word in words if word.isalpha() and word not in stop_words]\n",
        "    return ' '.join(filtered)\n",
        "\n",
        "df['cleaned_text'] = df['text'].apply(remove_stopwords)\n",
        "\n",
        "print(df.head)"
      ],
      "metadata": {
        "colab": {
          "base_uri": "https://localhost:8080/"
        },
        "id": "w49zXqXhdNwo",
        "outputId": "8be46868-efb4-4297-a2af-0a6bc06c878d"
      },
      "execution_count": null,
      "outputs": [
        {
          "output_type": "stream",
          "name": "stderr",
          "text": [
            "[nltk_data] Downloading package punkt to /root/nltk_data...\n",
            "[nltk_data]   Package punkt is already up-to-date!\n",
            "[nltk_data] Downloading package punkt_tab to /root/nltk_data...\n",
            "[nltk_data]   Unzipping tokenizers/punkt_tab.zip.\n",
            "[nltk_data] Downloading package stopwords to /root/nltk_data...\n",
            "[nltk_data]   Package stopwords is already up-to-date!\n"
          ]
        },
        {
          "output_type": "stream",
          "name": "stdout",
          "text": [
            "<bound method NDFrame.head of                                                     text  label  len_reviews  \\\n",
            "0      I grew up (b. 1965) watching and loving the Th...      0          151   \n",
            "1      When I put this movie in my DVD player, and sa...      0          326   \n",
            "2      Why do people who do not know what a particula...      0          184   \n",
            "3      Even though I have great interest in Biblical ...      0           69   \n",
            "4      Im a die hard Dads Army fan and nothing will e...      1          178   \n",
            "...                                                  ...    ...          ...   \n",
            "39995  \"Western Union\" is something of a forgotten cl...      1          541   \n",
            "39996  This movie is an incredible piece of work. It ...      1           50   \n",
            "39997  My wife and I watched this movie because we pl...      0          168   \n",
            "39998  When I first watched Flatliners, I was amazed....      1          168   \n",
            "39999  Why would this film be so good, but only gross...      1          137   \n",
            "\n",
            "                                            cleaned_text  \n",
            "0      grew b watching loving thunderbirds mates scho...  \n",
            "1      put movie dvd player sat coke chips expectatio...  \n",
            "2      people know particular time past like feel nee...  \n",
            "3      even though great interest biblical movies bor...  \n",
            "4      im die hard dads army fan nothing ever change ...  \n",
            "...                                                  ...  \n",
            "39995  western union something forgotten classic west...  \n",
            "39996  movie incredible piece work explores every noo...  \n",
            "39997  wife watched movie plan visit sicily stromboli...  \n",
            "39998  first watched flatliners amazed necessary feat...  \n",
            "39999  would film good gross estimated award nominati...  \n",
            "\n",
            "[39723 rows x 4 columns]>\n"
          ]
        }
      ]
    },
    {
      "cell_type": "code",
      "source": [
        "# cleaning the text by removing unnecessary characters\n",
        "import re\n",
        "import string\n",
        "\n",
        "def clean_text(text):\n",
        "    text = text.lower()\n",
        "    text = re.sub(r'http\\S+|www\\S+|https\\S+', '', text)\n",
        "    text = re.sub(r'@\\w+|#\\w+', '', text)\n",
        "    text = re.sub(r'[^\\x00-\\x7F]+', '', text)\n",
        "    text = text.translate(str.maketrans('', '', string.punctuation))\n",
        "    text = re.sub(r'\\s+', ' ', text).strip()\n",
        "\n",
        "    return text\n",
        "\n",
        "df['cleaned_text'] = df['cleaned_text'].apply(clean_text)\n",
        "\n",
        "print(df.head)"
      ],
      "metadata": {
        "colab": {
          "base_uri": "https://localhost:8080/"
        },
        "id": "wCqeUV3EdceK",
        "outputId": "38c47bd5-6b0b-4e34-cc86-617550959da7"
      },
      "execution_count": null,
      "outputs": [
        {
          "output_type": "stream",
          "name": "stdout",
          "text": [
            "<bound method NDFrame.head of                                                     text  label  len_reviews  \\\n",
            "0      I grew up (b. 1965) watching and loving the Th...      0          151   \n",
            "1      When I put this movie in my DVD player, and sa...      0          326   \n",
            "2      Why do people who do not know what a particula...      0          184   \n",
            "3      Even though I have great interest in Biblical ...      0           69   \n",
            "4      Im a die hard Dads Army fan and nothing will e...      1          178   \n",
            "...                                                  ...    ...          ...   \n",
            "39995  \"Western Union\" is something of a forgotten cl...      1          541   \n",
            "39996  This movie is an incredible piece of work. It ...      1           50   \n",
            "39997  My wife and I watched this movie because we pl...      0          168   \n",
            "39998  When I first watched Flatliners, I was amazed....      1          168   \n",
            "39999  Why would this film be so good, but only gross...      1          137   \n",
            "\n",
            "                                            cleaned_text  \n",
            "0      grew b watching loving thunderbirds mates scho...  \n",
            "1      put movie dvd player sat coke chips expectatio...  \n",
            "2      people know particular time past like feel nee...  \n",
            "3      even though great interest biblical movies bor...  \n",
            "4      im die hard dads army fan nothing ever change ...  \n",
            "...                                                  ...  \n",
            "39995  western union something forgotten classic west...  \n",
            "39996  movie incredible piece work explores every noo...  \n",
            "39997  wife watched movie plan visit sicily stromboli...  \n",
            "39998  first watched flatliners amazed necessary feat...  \n",
            "39999  would film good gross estimated award nominati...  \n",
            "\n",
            "[39723 rows x 4 columns]>\n"
          ]
        }
      ]
    },
    {
      "cell_type": "code",
      "source": [
        "# lemmatizing the text\n",
        "import spacy\n",
        "nlp = spacy.load(\"en_core_web_sm\")\n",
        "\n",
        "def lemmatize_text(text):\n",
        "    doc = nlp(text)\n",
        "    return ' '.join([token.lemma_ for token in doc if token.is_alpha])\n",
        "\n",
        "df['cleaned_text'] = df['cleaned_text'].apply(lemmatize_text)\n",
        "print(df.head)"
      ],
      "metadata": {
        "colab": {
          "base_uri": "https://localhost:8080/"
        },
        "id": "ASpqgOm8gC7b",
        "outputId": "9a7ca0bf-17f3-4862-9e94-5f33f46a5b6b"
      },
      "execution_count": null,
      "outputs": [
        {
          "output_type": "stream",
          "name": "stdout",
          "text": [
            "<bound method NDFrame.head of                                                     text  label  len_reviews  \\\n",
            "0      I grew up (b. 1965) watching and loving the Th...      0          151   \n",
            "1      When I put this movie in my DVD player, and sa...      0          326   \n",
            "2      Why do people who do not know what a particula...      0          184   \n",
            "3      Even though I have great interest in Biblical ...      0           69   \n",
            "4      Im a die hard Dads Army fan and nothing will e...      1          178   \n",
            "...                                                  ...    ...          ...   \n",
            "39995  \"Western Union\" is something of a forgotten cl...      1          541   \n",
            "39996  This movie is an incredible piece of work. It ...      1           50   \n",
            "39997  My wife and I watched this movie because we pl...      0          168   \n",
            "39998  When I first watched Flatliners, I was amazed....      1          168   \n",
            "39999  Why would this film be so good, but only gross...      1          137   \n",
            "\n",
            "                                            cleaned_text  \n",
            "0      grow b watch love thunderbird mate school watc...  \n",
            "1      put movie dvd player sit coke chip expectation...  \n",
            "2      people know particular time past like feel nee...  \n",
            "3      even though great interest biblical movie bore...  \n",
            "4      I m die hard dad army fan nothing ever change ...  \n",
            "...                                                  ...  \n",
            "39995  western union something forget classic western...  \n",
            "39996  movie incredible piece work explore every nook...  \n",
            "39997  wife watch movie plan visit sicily stromboli s...  \n",
            "39998  first watch flatliner amazed necessary feature...  \n",
            "39999  would film good gross estimate award nominatio...  \n",
            "\n",
            "[39723 rows x 4 columns]>\n"
          ]
        }
      ]
    },
    {
      "cell_type": "code",
      "source": [
        "# downloading en_core_web_md for vectorization of reviews\n",
        "import spacy.cli\n",
        "spacy.cli.download(\"en_core_web_md\")"
      ],
      "metadata": {
        "colab": {
          "base_uri": "https://localhost:8080/"
        },
        "id": "GW6nkVKw0SL9",
        "outputId": "56f05531-d656-4013-84cf-af5fdbac7ec1"
      },
      "execution_count": null,
      "outputs": [
        {
          "output_type": "stream",
          "name": "stdout",
          "text": [
            "\u001b[38;5;2m✔ Download and installation successful\u001b[0m\n",
            "You can now load the package via spacy.load('en_core_web_md')\n",
            "\u001b[38;5;3m⚠ Restart to reload dependencies\u001b[0m\n",
            "If you are in a Jupyter or Colab notebook, you may need to restart Python in\n",
            "order to load all the package's dependencies. You can do this by selecting the\n",
            "'Restart kernel' or 'Restart runtime' option.\n"
          ]
        }
      ]
    },
    {
      "cell_type": "code",
      "source": [
        "# loading the nlp library\n",
        "nlp = spacy.load(\"en_core_web_md\")"
      ],
      "metadata": {
        "id": "JtaNW1Y2k3ym"
      },
      "execution_count": null,
      "outputs": []
    },
    {
      "cell_type": "code",
      "source": [
        "# vectorizing the reviews\n",
        "from tqdm import tqdm\n",
        "tqdm.pandas()\n",
        "df['vector'] = df['cleaned_text'].progress_apply(lambda x: nlp(x).vector)\n",
        "print(df['vector'].iloc[0].shape)\n",
        "print(df['vector'].iloc[0])"
      ],
      "metadata": {
        "colab": {
          "base_uri": "https://localhost:8080/"
        },
        "collapsed": true,
        "id": "aD_CdCSR0nES",
        "outputId": "ef950770-4f59-4c84-f086-8473fcf704af"
      },
      "execution_count": null,
      "outputs": [
        {
          "output_type": "stream",
          "name": "stderr",
          "text": [
            "100%|██████████| 39723/39723 [20:04<00:00, 32.98it/s]"
          ]
        },
        {
          "output_type": "stream",
          "name": "stdout",
          "text": [
            "(300,)\n",
            "[-7.09629834e-01  1.22158900e-01 -9.91385654e-02 -8.07539076e-02\n",
            " -1.04077160e-01  3.42948153e-03  1.16117015e-01 -1.18513957e-01\n",
            "  5.97070456e-02  1.49176621e+00 -1.54117614e-01 -1.19294904e-01\n",
            " -3.63938510e-02  1.13093331e-01 -2.30300352e-02 -6.19464666e-02\n",
            "  5.44701703e-02  5.99474967e-01 -4.30958979e-02 -5.24709634e-02\n",
            "  3.91380601e-02 -9.66591910e-02  3.70458327e-02 -1.47593737e-01\n",
            " -1.00427419e-02  3.26104797e-02 -3.09333242e-02 -8.26772526e-02\n",
            "  5.53701222e-02 -4.69258763e-02 -9.01975408e-02  9.06382501e-02\n",
            " -5.55830970e-02 -1.59291849e-02 -7.65019096e-03  1.61268443e-01\n",
            " -7.53017142e-02  9.35877860e-02 -1.31062195e-01 -1.32117942e-02\n",
            " -4.42769891e-03 -3.11148986e-02  1.19845755e-02  1.65880248e-01\n",
            "  7.00580627e-02 -1.56036858e-02 -4.79841530e-02  1.08946331e-01\n",
            "  2.74239928e-02 -3.35404091e-02  3.13756950e-02  6.35560378e-02\n",
            "  1.36722088e-01 -1.04713157e-01 -9.75752026e-02  4.76600714e-02\n",
            " -5.08321598e-02 -6.54309243e-02 -4.35665622e-02 -7.91243836e-02\n",
            " -1.14424817e-01 -4.78727557e-02 -7.40066171e-02 -2.86337314e-03\n",
            "  8.09534714e-02 -1.40131429e-01 -4.54789177e-02 -7.27987364e-02\n",
            " -6.75063580e-04 -5.04464358e-02  1.35541052e-01 -4.02918048e-02\n",
            "  1.51863769e-01 -1.66560411e-02  4.92104739e-02  6.15094341e-02\n",
            "  3.39642391e-02  3.47765423e-02  2.98395045e-02  3.05222362e-01\n",
            " -3.87337506e-02  5.78800254e-02  3.95196080e-02 -4.46373085e-03\n",
            "  1.25075141e-02 -5.20519093e-02  3.59792113e-01 -3.09034765e-01\n",
            "  3.35230753e-02 -1.23833418e-01 -1.15250647e-01 -1.51044708e-02\n",
            " -9.04503465e-02 -4.10200134e-02  5.94544187e-02 -1.05492510e-01\n",
            "  6.44418374e-02  3.05788424e-02  4.54881974e-02 -1.04819432e-01\n",
            "  4.21575597e-03 -2.39850208e-02 -3.80576705e-04  4.52630594e-02\n",
            "  2.02290073e-01 -9.77181911e-01  4.71090758e-03 -5.18336818e-02\n",
            " -4.56537586e-03 -6.43547550e-02 -5.86965159e-02 -6.62482977e-02\n",
            " -7.38894641e-02 -1.05386958e-01 -1.00974903e-01  7.24131539e-02\n",
            "  4.19343114e-02 -6.35437444e-02 -8.42894148e-03 -9.52629671e-02\n",
            "  2.79927216e-02  9.09208134e-03  1.69565890e-03 -1.42087802e-01\n",
            "  3.02235801e-02  2.19663419e-02 -3.78220007e-02 -3.31524350e-02\n",
            " -6.24586791e-02 -1.61642823e-02 -6.59122597e-03 -3.98067199e-02\n",
            "  5.84141351e-02  6.06833510e-02 -2.77449656e-03 -6.96023330e-02\n",
            " -1.50248677e-01 -4.16467935e-02  6.28418550e-02  6.94095250e-03\n",
            " -1.47794282e+00  3.77617031e-02  7.72759020e-02 -5.54797892e-03\n",
            " -8.95389766e-02  4.49244538e-03 -1.02237128e-01  2.60555577e-02\n",
            "  3.55498344e-02 -9.66056138e-02  1.33140191e-01  6.54984862e-02\n",
            "  7.89123476e-02  2.80712191e-02  8.71080533e-02 -6.18333183e-02\n",
            " -3.65112312e-02 -3.96734029e-02  6.27670586e-02 -1.35412782e-01\n",
            " -6.28216788e-02 -7.65256137e-02  1.06128752e-01  1.90084670e-02\n",
            " -1.60278872e-01 -2.98865177e-02 -3.97796519e-02 -5.37455380e-02\n",
            " -1.55645177e-01 -1.13681190e-01 -6.24141768e-02 -9.92480889e-02\n",
            "  5.55769093e-02 -3.48678380e-02  4.99438727e-03 -1.59098618e-02\n",
            " -1.53271392e-01  9.24304724e-02  6.15055934e-02 -2.14374643e-02\n",
            " -1.12516424e-02 -5.48270904e-02 -1.18226632e-01  4.82024923e-02\n",
            "  3.66502590e-02  1.98996570e-02 -2.43715961e-02  6.82933703e-02\n",
            "  5.45116551e-02  3.83318961e-02  8.61458331e-02 -1.00516148e-01\n",
            " -9.09660086e-02  3.37918326e-02  2.46513933e-02  3.04006127e-04\n",
            "  4.13801000e-02 -8.97940248e-02 -8.75166710e-03  1.08306840e-01\n",
            "  2.11121310e-02 -1.17928930e-01 -6.82570636e-02 -6.65857783e-03\n",
            " -1.05969012e-01 -7.54877552e-02  5.38443625e-02  3.48756723e-02\n",
            "  8.68928358e-02  1.00221813e-01 -9.02577266e-02  5.99700771e-02\n",
            "  3.14944424e-02 -8.91234651e-02  9.85188317e-03 -3.23930234e-02\n",
            "  1.08008765e-01  9.82269421e-02 -1.04522660e-01 -1.10166930e-01\n",
            " -4.66716029e-02  7.61325844e-03 -1.56613767e-01 -1.01247340e-01\n",
            "  2.83090677e-02 -1.02686591e-01 -3.35313529e-02 -7.60087371e-02\n",
            " -3.66422273e-02  6.18975237e-02 -1.19042531e-01  3.23712155e-02\n",
            "  1.44529149e-01  3.23524289e-02 -2.12505739e-02 -7.93990400e-03\n",
            "  1.47365540e-01 -1.53165469e-02 -3.72690000e-02 -3.59478071e-02\n",
            " -1.29048219e-02 -5.89450151e-02  3.95142622e-02 -1.18768970e-02\n",
            " -3.06078773e-02 -9.24866088e-03  5.93761615e-02 -7.16193393e-02\n",
            " -1.01922207e-01  9.86837372e-02  6.70721307e-02 -1.97794605e-02\n",
            "  9.80616882e-02 -3.85729894e-02 -3.42788808e-02 -1.81253273e-02\n",
            "  2.39700545e-02 -2.49045547e-02  7.75283054e-02  3.36156934e-02\n",
            " -2.56989226e-02  5.10283411e-02  8.24337732e-03  1.21619720e-02\n",
            "  8.78696516e-02 -1.01012245e-01 -5.53654060e-02  1.28420487e-01\n",
            "  3.30573529e-01  1.29808694e-01 -2.96774004e-02 -1.78937875e-02\n",
            " -5.60350642e-02 -8.67778435e-02 -1.62401721e-01 -4.38813828e-02\n",
            " -6.91562542e-04 -1.04462557e-01 -5.02492525e-02  1.85371116e-01\n",
            "  1.13274813e-01  4.73567314e-04  2.87270714e-02 -1.50254428e-01\n",
            "  6.95129260e-02  1.80967063e-01  6.85276613e-02 -7.91797638e-02\n",
            " -9.47065093e-03 -1.66476946e-02  2.54413597e-02  1.94838718e-02\n",
            " -1.45631418e-01  1.18224649e-02  6.73185065e-02  9.04167667e-02\n",
            " -1.00384980e-01  3.83379869e-03 -5.89963906e-02  2.54399385e-02]\n"
          ]
        },
        {
          "output_type": "stream",
          "name": "stderr",
          "text": [
            "\n"
          ]
        }
      ]
    },
    {
      "cell_type": "code",
      "source": [
        "# splitting the dataset\n",
        "from sklearn.model_selection import train_test_split\n",
        "X = np.stack(df['vector'].values)\n",
        "y = df['label'].values\n",
        "X_train, X_test, y_train, y_test = train_test_split(X, y, test_size=0.2, random_state=69)"
      ],
      "metadata": {
        "id": "hJXwxNY39OWJ"
      },
      "execution_count": null,
      "outputs": []
    },
    {
      "cell_type": "code",
      "source": [
        "# forming the evaluation pipeline\n",
        "from sklearn.metrics import accuracy_score, roc_auc_score, f1_score, confusion_matrix\n",
        "import seaborn as sns\n",
        "\n",
        "def evaluate_predictions(y_test, y_pred, y_proba=None, model_name=\"Model\"):\n",
        "    print(f\"\\n Evaluation Metrics for: {model_name}\")\n",
        "\n",
        "    # Metrics\n",
        "    acc = accuracy_score(y_test, y_pred)\n",
        "    f1 = f1_score(y_test, y_pred)\n",
        "    cm = confusion_matrix(y_test, y_pred)\n",
        "\n",
        "    print(f\"Accuracy Score : {acc:.4f}\")\n",
        "    print(f\"F1 Score       : {f1:.4f}\")\n",
        "\n",
        "    if y_proba is not None:\n",
        "        try:\n",
        "            auc = roc_auc_score(y_test, y_proba)\n",
        "            print(f\"ROC-AUC Score  : {auc:.4f}\")\n",
        "        except ValueError:\n",
        "            print(\"ROC-AUC could not be computed (possibly only one class in y_test).\")\n",
        "    else:\n",
        "        print(\"Skipping ROC-AUC (no probability scores provided).\")\n",
        "\n",
        "    # Confusion Matrix Plot\n",
        "    plt.figure(figsize=(5, 4))\n",
        "    sns.heatmap(cm, annot=True, fmt='d', cmap='Blues', xticklabels=[0, 1], yticklabels=[0, 1])\n",
        "    plt.title(f\"Confusion Matrix - {model_name}\")\n",
        "    plt.xlabel(\"Predicted\")\n",
        "    plt.ylabel(\"Actual\")\n",
        "    plt.tight_layout()\n",
        "    plt.show()"
      ],
      "metadata": {
        "id": "t8qENXa80yDN"
      },
      "execution_count": null,
      "outputs": []
    },
    {
      "cell_type": "code",
      "source": [
        "#Random Forest Classifier\n",
        "from sklearn.ensemble import RandomForestClassifier as RFC\n",
        "rf_model = RFC(n_estimators=100)\n",
        "rf_model.fit(X_train, y_train)\n",
        "y_pred = rf_model.predict(X_test)\n",
        "y_proba = rf_model.predict_proba(X_test)[:, 1]\n",
        "\n",
        "evaluate_predictions(y_test, y_pred, y_proba, model_name=\"Random Forest\")"
      ],
      "metadata": {
        "colab": {
          "base_uri": "https://localhost:8080/",
          "height": 498
        },
        "id": "vNk_IuPO99nW",
        "outputId": "b5de80f4-5b48-44cb-e132-bccbeb3b8d59"
      },
      "execution_count": null,
      "outputs": [
        {
          "output_type": "stream",
          "name": "stdout",
          "text": [
            "\n",
            " Evaluation Metrics for: Random Forest\n",
            "Accuracy Score : 0.7249\n",
            "F1 Score       : 0.7261\n",
            "ROC-AUC Score  : 0.8001\n"
          ]
        },
        {
          "output_type": "display_data",
          "data": {
            "text/plain": [
              "<Figure size 500x400 with 2 Axes>"
            ],
            "image/png": "[encoded data removed]"
          },
          "metadata": {}
        }
      ]
    },
    {
      "cell_type": "code",
      "source": [
        "# Logistic Regression\n",
        "from sklearn.linear_model import LogisticRegression\n",
        "\n",
        "logreg = LogisticRegression(max_iter=1000)\n",
        "logreg.fit(X_train, y_train)\n",
        "y_pred = logreg.predict(X_test)\n",
        "y_proba = logreg.predict_proba(X_test)[:, 1]\n",
        "evaluate_predictions(y_test, y_pred, y_proba, model_name=\"Logistic Regression\")"
      ],
      "metadata": {
        "colab": {
          "base_uri": "https://localhost:8080/",
          "height": 498
        },
        "id": "rIvo2BUs_Cz1",
        "outputId": "72863479-b2f1-4eab-c016-55cb62e77a96"
      },
      "execution_count": null,
      "outputs": [
        {
          "output_type": "stream",
          "name": "stdout",
          "text": [
            "\n",
            " Evaluation Metrics for: Logistic Regression\n",
            "Accuracy Score : 0.7806\n",
            "F1 Score       : 0.7812\n",
            "ROC-AUC Score  : 0.8588\n"
          ]
        },
        {
          "output_type": "display_data",
          "data": {
            "text/plain": [
              "<Figure size 500x400 with 2 Axes>"
            ],
            "image/png": "[encoded data removed]"
          },
          "metadata": {}
        }
      ]
    },
    {
      "cell_type": "code",
      "source": [
        "# SVM Model\n",
        "from sklearn.svm import SVC\n",
        "\n",
        "svm_model = SVC(probability=True, random_state=69)\n",
        "svm_model.fit(X_train, y_train)\n",
        "y_pred = svm_model.predict(X_test)\n",
        "y_proba = svm_model.predict_proba(X_test)[:, 1]\n",
        "evaluate_predictions(y_test, y_pred, y_proba, model_name=\"SVM\")"
      ],
      "metadata": {
        "colab": {
          "base_uri": "https://localhost:8080/",
          "height": 498
        },
        "id": "S9IRxjIy_ceo",
        "outputId": "fe8bf8ae-2c77-43fb-f42a-2193fcf8332b"
      },
      "execution_count": null,
      "outputs": [
        {
          "output_type": "stream",
          "name": "stdout",
          "text": [
            "\n",
            " Evaluation Metrics for: SVM\n",
            "Accuracy Score : 0.7762\n",
            "F1 Score       : 0.7762\n",
            "ROC-AUC Score  : 0.8592\n"
          ]
        },
        {
          "output_type": "display_data",
          "data": {
            "text/plain": [
              "<Figure size 500x400 with 2 Axes>"
            ],
            "image/png": "[encoded data removed]"
          },
          "metadata": {}
        }
      ]
    },
    {
      "cell_type": "code",
      "source": [
        "#Bernoulli Naive Bayes Classifier\n",
        "from sklearn.naive_bayes import BernoulliNB\n",
        "\n",
        "nb_model = BernoulliNB()\n",
        "nb_model.fit(X_train, y_train)\n",
        "y_pred = nb_model.predict(X_test)\n",
        "y_proba = nb_model.predict_proba(X_test)[:, 1]\n",
        "evaluate_predictions(y_test, y_pred, y_proba, model_name=\"Bernoulli Naive Bayes\")"
      ],
      "metadata": {
        "colab": {
          "base_uri": "https://localhost:8080/",
          "height": 498
        },
        "id": "RHoQT3DEJIUg",
        "outputId": "31fb7cd9-d953-413c-b6a4-f0808933a83a"
      },
      "execution_count": null,
      "outputs": [
        {
          "output_type": "stream",
          "name": "stdout",
          "text": [
            "\n",
            " Evaluation Metrics for: Bernoulli Naive Bayes\n",
            "Accuracy Score : 0.6544\n",
            "F1 Score       : 0.6297\n",
            "ROC-AUC Score  : 0.7196\n"
          ]
        },
        {
          "output_type": "display_data",
          "data": {
            "text/plain": [
              "<Figure size 500x400 with 2 Axes>"
            ],
            "image/png": "[encoded data removed]"
          },
          "metadata": {}
        }
      ]
    },
    {
      "cell_type": "code",
      "source": [
        "# Simple Pytorch Neural Network with 2 hidden layers\n",
        "import torch\n",
        "import torch.nn as nn\n",
        "import torch.optim as optim\n",
        "from torch.utils.data import DataLoader, TensorDataset, random_split\n",
        "\n",
        "X_tensor = torch.tensor(X, dtype=torch.float32)\n",
        "y_tensor = torch.tensor(y, dtype=torch.float32).unsqueeze(1)\n",
        "\n",
        "dataset = TensorDataset(X_tensor, y_tensor)\n",
        "train_size = int(0.8 * len(dataset))\n",
        "test_size = len(dataset) - train_size\n",
        "train_dataset, test_dataset = random_split(dataset, [train_size, test_size])\n",
        "\n",
        "batch_size = 64\n",
        "train_loader = DataLoader(train_dataset, batch_size=batch_size, shuffle=True)\n",
        "test_loader = DataLoader(test_dataset, batch_size=batch_size)\n",
        "\n",
        "device = torch.device('cuda' if torch.cuda.is_available() else 'cpu')\n",
        "\n",
        "class SimpleNN(nn.Module):\n",
        "    def __init__(self, input_dim):\n",
        "        super(SimpleNN, self).__init__()\n",
        "        self.net = nn.Sequential(\n",
        "            nn.Linear(input_dim, 128),\n",
        "            nn.ReLU(),\n",
        "            nn.Dropout(0.3),\n",
        "            nn.Linear(128, 64),\n",
        "            nn.ReLU(),\n",
        "            nn.Dropout(0.3),\n",
        "            nn.Linear(64, 1),\n",
        "            nn.Sigmoid()\n",
        "        )\n",
        "\n",
        "    def forward(self, x):\n",
        "        return self.net(x)\n",
        "\n",
        "model = SimpleNN(input_dim=X.shape[1]).to(device)\n",
        "criterion = nn.BCELoss()\n",
        "optimizer = optim.Adam(model.parameters(), lr=0.001)\n",
        "\n",
        "epochs = 30\n",
        "for epoch in range(epochs):\n",
        "    model.train()\n",
        "    total_loss = 0\n",
        "    for batch_X, batch_y in train_loader:\n",
        "        batch_X, batch_y = batch_X.to(device), batch_y.to(device)\n",
        "        optimizer.zero_grad()\n",
        "        outputs = model(batch_X)\n",
        "        loss = criterion(outputs, batch_y)\n",
        "        loss.backward()\n",
        "        optimizer.step()\n",
        "        total_loss += loss.item()\n",
        "\n",
        "    print(f\"Epoch {epoch+1}/{epochs}, Loss: {total_loss:.4f}\")\n",
        "\n",
        "model.eval()\n",
        "y_pred_list = []\n",
        "y_proba_list = []\n",
        "y_true_list = []\n",
        "\n",
        "with torch.no_grad():\n",
        "    for batch_X, batch_y in test_loader:\n",
        "        batch_X = batch_X.to(device)\n",
        "        outputs = model(batch_X)\n",
        "        proba = outputs.cpu().numpy().flatten()\n",
        "        preds = (proba >= 0.5).astype(int)\n",
        "\n",
        "        y_pred_list.extend(preds)\n",
        "        y_proba_list.extend(proba)\n",
        "        y_true_list.extend(batch_y.numpy().flatten())\n",
        "\n",
        "evaluate_predictions(\n",
        "    y_test=np.array(y_true_list),\n",
        "    y_pred=np.array(y_pred_list),\n",
        "    y_proba=np.array(y_proba_list),\n",
        "    model_name=\"PyTorch Simple NN\"\n",
        ")"
      ],
      "metadata": {
        "colab": {
          "base_uri": "https://localhost:8080/",
          "height": 1000
        },
        "id": "ETRsm3yRKIGa",
        "outputId": "d20408dc-a0f4-465d-90fa-bdad006bc0bc"
      },
      "execution_count": null,
      "outputs": [
        {
          "output_type": "stream",
          "name": "stdout",
          "text": [
            "Epoch 1/30, Loss: 273.4864\n",
            "Epoch 2/30, Loss: 244.3730\n",
            "Epoch 3/30, Loss: 238.8992\n",
            "Epoch 4/30, Loss: 234.5859\n",
            "Epoch 5/30, Loss: 233.0220\n",
            "Epoch 6/30, Loss: 232.7124\n",
            "Epoch 7/30, Loss: 229.7373\n",
            "Epoch 8/30, Loss: 229.7636\n",
            "Epoch 9/30, Loss: 227.1971\n",
            "Epoch 10/30, Loss: 226.3030\n",
            "Epoch 11/30, Loss: 224.5446\n",
            "Epoch 12/30, Loss: 225.0341\n",
            "Epoch 13/30, Loss: 223.1278\n",
            "Epoch 14/30, Loss: 222.6758\n",
            "Epoch 15/30, Loss: 221.2945\n",
            "Epoch 16/30, Loss: 220.8817\n",
            "Epoch 17/30, Loss: 220.3088\n",
            "Epoch 18/30, Loss: 217.8594\n",
            "Epoch 19/30, Loss: 218.7886\n",
            "Epoch 20/30, Loss: 217.8885\n",
            "Epoch 21/30, Loss: 216.2804\n",
            "Epoch 22/30, Loss: 217.1274\n",
            "Epoch 23/30, Loss: 215.8012\n",
            "Epoch 24/30, Loss: 214.3835\n",
            "Epoch 25/30, Loss: 213.9020\n",
            "Epoch 26/30, Loss: 212.6485\n",
            "Epoch 27/30, Loss: 212.8050\n",
            "Epoch 28/30, Loss: 210.8528\n",
            "Epoch 29/30, Loss: 211.3133\n",
            "Epoch 30/30, Loss: 210.3862\n",
            "\n",
            " Evaluation Metrics for: PyTorch Simple NN\n",
            "Accuracy Score : 0.7853\n",
            "F1 Score       : 0.7790\n",
            "ROC-AUC Score  : 0.8641\n"
          ]
        },
        {
          "output_type": "display_data",
          "data": {
            "text/plain": [
              "<Figure size 500x400 with 2 Axes>"
            ],
            "image/png": "[encoded data removed]"
          },
          "metadata": {}
        }
      ]
    }
  ]
}
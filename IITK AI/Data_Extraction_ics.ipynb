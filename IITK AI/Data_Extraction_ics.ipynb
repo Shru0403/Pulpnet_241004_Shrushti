{
 "cells": [
  {
   "cell_type": "code",
   "execution_count": 1,
   "id": "5b80a337",
   "metadata": {},
   "outputs": [],
   "source": [
    "import requests\n",
    "from bs4 import BeautifulSoup\n",
    "import time"
   ]
  },
  {
   "cell_type": "code",
   "execution_count": null,
   "id": "be89e130",
   "metadata": {},
   "outputs": [],
   "source": [
    "# extracting info from webpage\n",
    "def scrape_ics_article(url):\n",
    "    res = requests.get(url, headers ={\n",
    "    \"User-Agent\": \"Mozilla/5.0 (Windows NT 10.0; Win64; x64) \" +\n",
    "                  \"AppleWebKit/537.36 (KHTML, like Gecko) \" +\n",
    "                  \"Chrome/114.0.0.0 Safari/537.36\"\n",
    "    })\n",
    "    soup = BeautifulSoup(res.content, \"html.parser\")\n",
    "\n",
    "\n",
    "    paragraphs = []\n",
    "    for p in soup.find_all(\"p\"):\n",
    "        text = p.get_text(strip=True)\n",
    "        if text:  # skip empty\n",
    "            paragraphs.append(text)\n",
    "\n",
    "    content = \"\\n\".join(paragraphs)\n",
    "    return content"
   ]
  },
  {
   "cell_type": "code",
   "execution_count": null,
   "id": "7c47d55d",
   "metadata": {},
   "outputs": [],
   "source": [
    "# extracting chunks from several webpages\n",
    "links = ['https://www.iitk.ac.in/counsel/events.php', 'https://www.iitk.ac.in/counsel/workshop-sessions.php', 'https://www.iitk.ac.in/counsel/academic-support.php', 'https://www.iitk.ac.in/counsel/ug-information.php', 'https://www.iitk.ac.in/counsel/pg-information.php', ]\n",
    "big_chunks = []\n",
    "for url in links:\n",
    "    big_chunks.append(scrape_ics_article(url))"
   ]
  },
  {
   "cell_type": "code",
   "execution_count": 8,
   "id": "f4b729f5",
   "metadata": {},
   "outputs": [
    {
     "name": "stdout",
     "output_type": "stream",
     "text": [
      "5\n"
     ]
    }
   ],
   "source": [
    "print(len(big_chunks))"
   ]
  },
  {
   "cell_type": "code",
   "execution_count": null,
   "id": "6f361045",
   "metadata": {},
   "outputs": [
    {
     "name": "stderr",
     "output_type": "stream",
     "text": [
      "[nltk_data] Downloading package punkt to\n",
      "[nltk_data]     C:\\Users\\shilp\\AppData\\Roaming\\nltk_data...\n",
      "[nltk_data]   Package punkt is already up-to-date!\n",
      "[nltk_data] Downloading package punkt_tab to\n",
      "[nltk_data]     C:\\Users\\shilp\\AppData\\Roaming\\nltk_data...\n",
      "[nltk_data]   Package punkt_tab is already up-to-date!\n"
     ]
    }
   ],
   "source": [
    "# chunkifying function which shortens data chunks to processable ones \n",
    "import nltk\n",
    "nltk.download('punkt')\n",
    "nltk.download('punkt_tab')\n",
    "from nltk.tokenize import sent_tokenize, word_tokenize\n",
    "\n",
    "def chunk_text(text, max_words=400, overlap=100):\n",
    "    sentences = sent_tokenize(text)\n",
    "    \n",
    "    chunks = []\n",
    "    current_chunk = []\n",
    "    current_word_count = 0\n",
    "\n",
    "    i = 0\n",
    "    while i < len(sentences):\n",
    "        sentence = sentences[i]\n",
    "        word_count = len(word_tokenize(sentence))\n",
    "\n",
    "        if current_word_count + word_count <= max_words:\n",
    "            current_chunk.append(sentence)\n",
    "            current_word_count += word_count\n",
    "            i += 1\n",
    "        else:\n",
    "            # Save chunk\n",
    "            chunk_text = ' '.join(current_chunk).strip()\n",
    "            chunks.append(chunk_text)\n",
    "\n",
    "            # Move back overlap words\n",
    "            if overlap > 0:\n",
    "                backtrack_words = 0\n",
    "                backtrack_index = len(current_chunk) - 1\n",
    "                while backtrack_index >= 0 and backtrack_words < overlap:\n",
    "                    backtrack_words += len(word_tokenize(current_chunk[backtrack_index]))\n",
    "                    backtrack_index -= 1\n",
    "                current_chunk = current_chunk[backtrack_index+1:]\n",
    "                current_word_count = sum(len(word_tokenize(s)) for s in current_chunk)\n",
    "            else:\n",
    "                current_chunk = []\n",
    "                current_word_count = 0\n",
    "\n",
    "    # Save any remaining chunk\n",
    "    if current_chunk:\n",
    "        chunks.append(' '.join(current_chunk).strip())\n",
    "\n",
    "    return chunks"
   ]
  },
  {
   "cell_type": "code",
   "execution_count": null,
   "id": "fc835e8c",
   "metadata": {},
   "outputs": [
    {
     "name": "stdout",
     "output_type": "stream",
     "text": [
      "['Quoting our alumni, “Orientation is one of the best memories of IITK.\" The Institute Counselling Service conducted a 11-day long Orientation for the new Freshers batch to help them get acclimatized to campus and bond with their batchmates. It is the largest College Orientation programme in the nation. Students are introduced to Academic Structure, Administrative Structure, Students\\' Gymkhana, Clubs & Societies and the various opportunities IITK has for its students. Orientation also contains games, wing activities, interactive sessions and a campus tour with the aim to nurture the newly formed bonds among the students. Memories made here stay forever. World Suicide Prevention Day is an awareness day observed on 10 September every year to provide worldwide commitment and action to prevent suicide with various activities worldwide since 2003. IIT Kanpur also organises events every year to raise awareness that suicide is preventable and to decrease stigma regarding suicide. This year the Institute Counselling Service conducted a seminar, which included a talk by the renowned psychiatrist of Kanpur, Dr Kalim Ahmed. On the occasion of mental health day, the Institute Counselling Service conducted various inspiring events to bring attention to Mental health wellness. A Mental health awareness talk was organised to have an open interaction of the campus community with the counsellors to share their thoughts and learn about the importance of mental health in a person\\'s life. There were many fun activities for the audience to have fun while learning to take care of their mental health. The session was followed by a movie screening of \"The Perks of Being a Wallflower\", which portrays the life of a teenager & his struggles with his post-traumatic stress disorder as he goes through his journey in high school. Every year on Diwali, we organize \\'Hakuna Matata\\'. Since many students celebrate Diwali away from home, we take the initiative of making students feel at \"Home away from Home\" by conducting various fun-filled activities to engage the students in positive gainful activities and let off steam under Hakuna Matata. This year, the celebration included a Rangoli Competition in collaboration with the Fine Arts Club.', 'The session was followed by a movie screening of \"The Perks of Being a Wallflower\", which portrays the life of a teenager & his struggles with his post-traumatic stress disorder as he goes through his journey in high school. Every year on Diwali, we organize \\'Hakuna Matata\\'. Since many students celebrate Diwali away from home, we take the initiative of making students feel at \"Home away from Home\" by conducting various fun-filled activities to engage the students in positive gainful activities and let off steam under Hakuna Matata. This year, the celebration included a Rangoli Competition in collaboration with the Fine Arts Club. Following this, the day ended with students flying Sky Lanterns and decorating the ground with Diyas marking the Festival of lights. Academic Remedial classes, otherwise known as AM Classes, are sessions organised to cover the syllabus of the first year courses and to gear up the students for upcoming exams. These classes are meant to clear any doubts, solve questions and cover the course content concisely and clearly from an exam point of view. These sessions are headed by Academic Mentors who also prepare short notes and discuss questions keeping in mind the past year\\'s question trends. A 5km Run and Walk event with the theme \"Run and Walk for a Cause\" was also held for the campus community to spirit up the mental health day and bring the attention of the importance of mental health. The Marathon started at OAT and continued all through the Campus. Goodies, along with energy drinks, were also distributed to the participants.', 'How to utilize the summers effectively? This is a question which puts a lot of students in a fix. This session addresses all such queries. Seniors from various departments who have had pursued research internships, management internships or core or noncore internships during their summers, illuminate their juniors with the myriad opportunities present out there. The dynamics of relationships amidst which one lives are complex in nature. We aim to help students understand and unwind the complications of these through this session. Students are focused on improving their study techniques in order to optimize their skill set to the maximum. The session on study techniques is aimed at acquainting students on various studying approaches which can be helpful for them in regularizing their studies and performing better in their examinations. One of the most pressing issues in the campus for Undergraduate and Postgraduate students is how to spend time on the right things and in the right places. We try to help students in reaching out to their priorities, obligations and schedule so that they benefit in all areas of life through this session. Aimed at helping the students understand the various forms of addiction and sensitize them on ways to overcome them.', 'Different students have different ways of studying. Some are able to perform and understand better by covering current subjects in small amounts on a regular basis in accordance with class, while some others find it convenient to study in bulk say at the end of the week or so. You should try figure out which way suits you better.In case you can not come to a conclusion, we suggest you to follow the first approach of studying in small amounts on a regular basis.Identify Best Time for Studying: Everyone has high and low periods of attention and concentration. Figure out are you a morning person or a night person. Use your power times to study and the down times for routines.Write down what you have to do, when and then prioritize. Maintaining a schedule can make you feel more in control.Identify the place of study that suites you most, avoiding distractions, be it the library or the comfort of your room.You should constantly motivate yourselfReward yourself when you have achieved some goal.Try not to overburden yourself by unnecessarily comparing yourself with others. Take regular, short breaks when you are working - for example, some students find it better to study for an hour or so and then relax for 10 mins. This helps to concentrate for longer. Rather than studying throughout the night in library without enough concentration, it’s better to focus your attention and study effectively for a shorter period of time.If you are finding it very difficult to concentrate, start off by setting yourself a small, manageable goal. When you have achieved this, give yourself some reward. Keep repeating this process. As you achieve your goals, gradually increase what you set out to do. In this way you can train yourself to concentrate more effectively. Take regular, short breaks when you are working - for example, some students find it better to study for an hour or so and then relax for 10 mins. This helps to concentrate for longer.', \"Rather than studying throughout the night in library without enough concentration, it’s better to focus your attention and study effectively for a shorter period of time.If you are finding it very difficult to concentrate, start off by setting yourself a small, manageable goal. When you have achieved this, give yourself some reward. Keep repeating this process. As you achieve your goals, gradually increase what you set out to do. In this way you can train yourself to concentrate more effectively. Take regular, short breaks when you are working - for example, some students find it better to study for an hour or so and then relax for 10 mins. This helps to concentrate for longer. Rather than studying throughout the night in library without enough concentration, it’s better to focus your attention and study effectively for a shorter period of time.If you are finding it very difficult to concentrate, start off by setting yourself a small, manageable goal. When you have achieved this, give yourself some reward. Keep repeating this process. As you achieve your goals, gradually increase what you set out to do. In this way you can train yourself to concentrate more effectively. Improving the study habits also help in concentrating better. Here are a few tips:Make notes as you read. And list the important points that can be reviewed later.Speak out loud.Mix topics frequently. Mix easy and difficult topics, and interesting and dull topics.Seek help from the seniors who had already done that course, you can learn from their experience and their mistakes.Discuss your doubts with your friends, this will help you in better understanding the topic.If you still have doubts feel free to approach your instructor/tutor. Just mail them and ask for some suitable time to meet them. Improving the study habits also help in concentrating better. Here are a few tips:\\nEveryone in this class is smarter and faster than I am.I always mess up on quizzes.If I don't do well on this exam, then I'll get an F in the course.This is the worst course.Become aware of what you say to yourself.\"]\n"
     ]
    }
   ],
   "source": [
    "# dividing data into smaller chunks\n",
    "small_chunks = []\n",
    "for chonkies in big_chunks:\n",
    "    for small_chonkies in chunk_text(chonkies):\n",
    "        small_chunks.append(small_chonkies)\n",
    "\n",
    "print(small_chunks[:5])"
   ]
  },
  {
   "cell_type": "code",
   "execution_count": 11,
   "id": "2c787e03",
   "metadata": {},
   "outputs": [
    {
     "name": "stdout",
     "output_type": "stream",
     "text": [
      "61\n"
     ]
    }
   ],
   "source": [
    "print(len(small_chunks))"
   ]
  },
  {
   "cell_type": "code",
   "execution_count": null,
   "id": "9f23e37d",
   "metadata": {},
   "outputs": [],
   "source": [
    "# cleaning data\n",
    "import unicodedata\n",
    "import re\n",
    "\n",
    "def clean_chunk(raw_html):\n",
    "    # removing html code\n",
    "    soup = BeautifulSoup(raw_html, \"html.parser\")\n",
    "    text = soup.get_text(separator=\" \")  # keeps sentence spacing more natural\n",
    "\n",
    "    # normalising unicode\n",
    "    text = unicodedata.normalize(\"NFKC\", text)\n",
    "\n",
    "    # removing urls and emails\n",
    "    text = re.sub(r\"http\\S+|www\\.\\S+\", \"\", text)\n",
    "    text = re.sub(r\"\\S+@\\S+\", \"\", text)\n",
    "\n",
    "    # fix bad spacing\n",
    "    text = re.sub(r\"\\s+\", \" \", text)\n",
    "\n",
    "    # fix punctuation\n",
    "    text = re.sub(r\"\\.([A-Z])\", r\". \\1\", text)\n",
    "\n",
    "    return text.strip()"
   ]
  },
  {
   "cell_type": "code",
   "execution_count": null,
   "id": "2ab48cde",
   "metadata": {},
   "outputs": [],
   "source": [
    "# cleaning data\n",
    "for i in range(len(small_chunks)):\n",
    "    small_chunks[i] = clean_chunk(small_chunks[i])"
   ]
  },
  {
   "cell_type": "code",
   "execution_count": null,
   "id": "7e870549",
   "metadata": {},
   "outputs": [],
   "source": [
    "#adding data to dataset\n",
    "import json \n",
    "import os\n",
    "if os.path.exists(\"dataset.json\"):\n",
    "    with open(\"dataset.json\", \"r\", encoding=\"utf-8\") as f:\n",
    "        data = json.load(f)\n",
    "else:\n",
    "    data = []\n",
    "\n",
    "data.extend(small_chunks)\n",
    "\n",
    "with open(\"dataset.json\", \"w\", encoding=\"utf-8\") as f:\n",
    "    json.dump(data, f, indent=2, ensure_ascii=False)"
   ]
  }
 ],
 "metadata": {
  "kernelspec": {
   "display_name": "kitty",
   "language": "python",
   "name": "python3"
  },
  "language_info": {
   "codemirror_mode": {
    "name": "ipython",
    "version": 3
   },
   "file_extension": ".py",
   "mimetype": "text/x-python",
   "name": "python",
   "nbconvert_exporter": "python",
   "pygments_lexer": "ipython3",
   "version": "3.10.16"
  }
 },
 "nbformat": 4,
 "nbformat_minor": 5
}

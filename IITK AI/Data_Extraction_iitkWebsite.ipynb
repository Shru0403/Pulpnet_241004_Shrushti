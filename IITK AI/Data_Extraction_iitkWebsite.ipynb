{
 "cells": [
  {
   "cell_type": "code",
   "execution_count": 1,
   "id": "2c2587ba",
   "metadata": {},
   "outputs": [],
   "source": [
    "import requests\n",
    "from bs4 import BeautifulSoup\n",
    "import time"
   ]
  },
  {
   "cell_type": "code",
   "execution_count": null,
   "id": "9be95ffc",
   "metadata": {},
   "outputs": [],
   "source": [
    "# functiont o scrape iitk webpage\n",
    "def scrape_iitk_article(url):\n",
    "    res = requests.get(url, headers ={\n",
    "    \"User-Agent\": \"Mozilla/5.0 (Windows NT 10.0; Win64; x64) \" +\n",
    "                  \"AppleWebKit/537.36 (KHTML, like Gecko) \" +\n",
    "                  \"Chrome/114.0.0.0 Safari/537.36\"\n",
    "    })\n",
    "    soup = BeautifulSoup(res.content, \"html.parser\")\n",
    "\n",
    "\n",
    "    paragraphs = []\n",
    "    for p in soup.find_all(\"p\"):\n",
    "        text = p.get_text(strip=True)\n",
    "        if text:  # skip empty\n",
    "            paragraphs.append(text)\n",
    "\n",
    "    content = \"\\n\".join(paragraphs)\n",
    "    return content"
   ]
  },
  {
   "cell_type": "code",
   "execution_count": null,
   "id": "5bc87495",
   "metadata": {},
   "outputs": [],
   "source": [
    "# extracting data from each link\n",
    "links = ['https://iitk.ac.in/new/faculty-staff-campus-life', 'https://iitk.ac.in/new/iitk-history', 'https://iitk.ac.in/new/list-of-directors', 'https://iitk.ac.in/new/iitk-story', 'https://iitk.ac.in/new/the-fourth-iit-an-in-depth-analysis-of-iit-kanpur', 'https://iitk.ac.in/new/institute-overview', 'https://iitk.ac.in/new/education-at-iitk', 'https://iitk.ac.in/new/board-of-governers', 'https://iitk.ac.in/new/prof-manindra-agrawal', 'https://iitk.ac.in/new/key-administrators', 'https://iitk.ac.in/new/student-campus-life', 'https://www.iitk.ac.in/oir/', 'https://iitk.ac.in/new/kanpur-city', 'https://www.iitk.ac.in/wc/', 'https://iitk.ac.in/new/list-of-hobby-clubs', 'https://spo.iitk.ac.in/', 'https://iitk.ac.in/new/entrepreneurship-with-iitk', 'https://iitk.ac.in/new/academics-at-iit-kanpur', 'https://iitk.ac.in/new/innovation-highlights', 'https://iitk.ac.in/new/eligibility', 'https://iitk.ac.in/new/success-stories', 'https://iitk.ac.in/new/incubated-companies', 'https://www.iitk.ac.in/dora/the-foundation-board-directors', 'https://iitk.ac.in/new/culture-at-iitk', 'https://iitk.ac.in/new/cultural-events', 'https://iitk.ac.in/new/sports-at-iitk', 'https://iitk.ac.in/new/sports-facilities', 'https://iitk.ac.in/new/recreational-facilities', 'https://www.iitk.ac.in/aero/welcome-message-from-hod', 'https://www.iitk.ac.in/bsbe/', 'https://www.iitk.ac.in/che/', 'https://www.iitk.ac.in/ce/', 'https://www.cse.iitk.ac.in/', 'https://www.iitk.ac.in/design/', 'https://www.iitk.ac.in/ee/', 'https://www.iitk.ac.in/doms/', 'https://www.iitk.ac.in/mse/', 'https://www.iitk.ac.in/me/', 'https://iitk.ac.in/eco/', 'https://www.iitk.ac.in/chm/', 'https://www.iitk.ac.in/es/', 'https://www.iitk.ac.in/math/', 'https://www.iitk.ac.in/phy/', ]\n",
    "big_chunks = []\n",
    "for url in links:\n",
    "    big_chunks.append(scrape_iitk_article(url))"
   ]
  },
  {
   "cell_type": "code",
   "execution_count": 4,
   "id": "91be0f8d",
   "metadata": {},
   "outputs": [
    {
     "name": "stdout",
     "output_type": "stream",
     "text": [
      "43\n"
     ]
    }
   ],
   "source": [
    "print(len(big_chunks))"
   ]
  },
  {
   "cell_type": "code",
   "execution_count": null,
   "id": "84a60b6f",
   "metadata": {},
   "outputs": [
    {
     "name": "stderr",
     "output_type": "stream",
     "text": [
      "[nltk_data] Downloading package punkt to\n",
      "[nltk_data]     C:\\Users\\shilp\\AppData\\Roaming\\nltk_data...\n",
      "[nltk_data]   Package punkt is already up-to-date!\n",
      "[nltk_data] Downloading package punkt_tab to\n",
      "[nltk_data]     C:\\Users\\shilp\\AppData\\Roaming\\nltk_data...\n",
      "[nltk_data]   Package punkt_tab is already up-to-date!\n"
     ]
    }
   ],
   "source": [
    "# function to divide data into smaller chunks\n",
    "import nltk\n",
    "nltk.download('punkt')\n",
    "nltk.download('punkt_tab')\n",
    "from nltk.tokenize import sent_tokenize, word_tokenize\n",
    "\n",
    "def chunk_text(text, max_words=400, overlap=100):\n",
    "    sentences = sent_tokenize(text)\n",
    "    \n",
    "    chunks = []\n",
    "    current_chunk = []\n",
    "    current_word_count = 0\n",
    "\n",
    "    i = 0\n",
    "    while i < len(sentences):\n",
    "        sentence = sentences[i]\n",
    "        word_count = len(word_tokenize(sentence))\n",
    "\n",
    "        if current_word_count + word_count <= max_words:\n",
    "            current_chunk.append(sentence)\n",
    "            current_word_count += word_count\n",
    "            i += 1\n",
    "        else:\n",
    "            # Save chunk\n",
    "            chunk_text = ' '.join(current_chunk).strip()\n",
    "            chunks.append(chunk_text)\n",
    "\n",
    "            # Move back overlap words\n",
    "            if overlap > 0:\n",
    "                backtrack_words = 0\n",
    "                backtrack_index = len(current_chunk) - 1\n",
    "                while backtrack_index >= 0 and backtrack_words < overlap:\n",
    "                    backtrack_words += len(word_tokenize(current_chunk[backtrack_index]))\n",
    "                    backtrack_index -= 1\n",
    "                current_chunk = current_chunk[backtrack_index+1:]\n",
    "                current_word_count = sum(len(word_tokenize(s)) for s in current_chunk)\n",
    "            else:\n",
    "                current_chunk = []\n",
    "                current_word_count = 0\n",
    "\n",
    "    # Save any remaining chunk\n",
    "    if current_chunk:\n",
    "        chunks.append(' '.join(current_chunk).strip())\n",
    "\n",
    "    return chunks"
   ]
  },
  {
   "cell_type": "code",
   "execution_count": null,
   "id": "669b9f56",
   "metadata": {},
   "outputs": [
    {
     "name": "stderr",
     "output_type": "stream",
     "text": [
      "Chunkifying: 100%|██████████| 38/38 [00:00<00:00, 317.78it/s]"
     ]
    },
    {
     "name": "stdout",
     "output_type": "stream",
     "text": [
      "[\"beta\\nIIT Kanpur offers a great environment for professional development. The beautiful, safe and well laid out campus has excellent facilities for recreation, children's education and healthcare. IITK offers a supportive enriching environment to its faculty and staff in all respects. The well laid out campus is a great place for children to grow up with excellent schools and a stimulating environment. Away from the hustle bustle of the city the IITK campus offers a peaceful and modern lifestyle to the faculty, staff and their families. There are several retail areas on the campus with shops and services to meet the day to day needs of the campus community. IITK has a faculty club along with several other formal and informal forums. There is great bonding among the campus community. The faculty and staff at IITK live on campus where they have easy access to facilities and activities. The great housing has contributed to the emergence of IITK as a leading institute. The comfortable and serene surroundings support an enjoyable and enriching life style. IITK is well served by a conveniently located Health Centre. The doctors and staff of the Health Centre are committed to the health and well being of the campus community. Living at IITK means easy access to a rich variety of fine and performing arts. Leading artists visit the campus regularly. There are also several cultural clubs at IIT Kanpur. The IITK campus and Kanpur city offer many options for eating out. They offer all popular world cuisines along with the local cuisines of Kanpur and Lucknow. Academic, sports and cultural events take place nearly all year round at IITK. IITK offers a wide range of sports and recreational facilities to support the modern healthy living choices. The campus community participates in all of them enthusiastically and along with its challenge each sports and recreational activity also brings with it an opportunity to bond with other members of the campus community. Copyright © 2020\", 'beta\\nHow a premier institution committed to excellence was built\\nWhen I came to Kanpur first to join as the Director of the Institute, almost everybody I met in Kanpur asked me..if I had wanted to commit professional suicide, I did not at all worry about this because I was no longer myself but an instrument of a historical process\" (Extracts from the convocation address given by Dr. P.K. Kelkar on 1981 May 17). The institute was registered under Registration of Society Act XXI of 1860 on 2nd November, 1959\\nSoon after the five IITs were set up, Prime Minister Pandit Jawaharlal Nehru had realized that to keep pace with the ever changing world of science and technology, it is necessary to collaborate closely with the outside world. The Kanpur Indo-American Programme (1962-1972) at IIT-Kanpur was a stride in this direction. During the period 1962-72, the Institute received technical assistance under KIAP from a consortium of nine leading Institutions of U.S.A. Under the program, faculty members from these Institutions assisted the Institute in the setting up of the academic programs and development of laboratories for instruction as well as research. Sharing a Dream - IIT Kanpur Documentary\\nIndian Institute of Technology, Kanpur is one of the premier institutions established by the Government of India. The aim of the Institute is to provide meaningful education, to conduct original research of the highest standard and to provide leadership in technological innovation for the industrial growth of the country. The Institute began functioning in the borrowed building of Harcourt Butler Technological Institute in 1959 with 100 students and a small faculty. The Institute now has its own sprawling residential campus, about 2255 undergraduate and 1476 postgraduate students, 309 faculty and more than 900 supporting staff. The combined record of its past and present faculty and students along with the alumni spread across the world is awe-inspiring. With the path-breaking innovations in both its curriculum and research, the Institute is rapidly gaining a legendary reputation\\nIIT-Kanpur is located on the Grand Trunk Road, 15 km west of Kanpur City and measures close to 420 hectares.', 'The Institute began functioning in the borrowed building of Harcourt Butler Technological Institute in 1959 with 100 students and a small faculty. The Institute now has its own sprawling residential campus, about 2255 undergraduate and 1476 postgraduate students, 309 faculty and more than 900 supporting staff. The combined record of its past and present faculty and students along with the alumni spread across the world is awe-inspiring. With the path-breaking innovations in both its curriculum and research, the Institute is rapidly gaining a legendary reputation\\nIIT-Kanpur is located on the Grand Trunk Road, 15 km west of Kanpur City and measures close to 420 hectares. This land was gifted by the Government of Uttar Pradesh in 1960 and by March 1963 the Institute had moved to its current location. If someone had visited it then, he/she would have seen a standing crop, acacia woods, a long winding line of stately mango trees, flocks of peafowl and a conventional country side scene of India. The residential campus is planned and landscaped with a hope for environmental freedom. Halls of residence, faculty and staff houses and community buildings surround the central academic area to provide flexibility in movement and communication. The person who brought this mammoth transformation was Mr.Achyut Kanvinde, a Delhi-based architect. Since the beginning, the Institute has attracted scholars from across the country. The rich cultural diversity of India is reflected in the campus activities of IIT-K as well. From its very inception, IIT Kanpur has been striving to develop itself into an institution of excellence in education and research in consonance with the contemporary and future needs of India. In meeting this challenge, the Institute has always been making special efforts to recruit talented faculty on a world-wide basis and to admit brilliant students from all over the country by a careful selection process. Continuous efforts have been made to provide the faculty with well-equipped facilities to enable them to participate in national endeavors in Science and Technology in a major way. In addition to offering formal Undergraduate and Post-graduate Programs, the Institute has been involved in Continuing Education and Research & Development in areas of value to both the Industry and the Government.', 'In meeting this challenge, the Institute has always been making special efforts to recruit talented faculty on a world-wide basis and to admit brilliant students from all over the country by a careful selection process. Continuous efforts have been made to provide the faculty with well-equipped facilities to enable them to participate in national endeavors in Science and Technology in a major way. In addition to offering formal Undergraduate and Post-graduate Programs, the Institute has been involved in Continuing Education and Research & Development in areas of value to both the Industry and the Government. In a very short span, the Institute has attained recognition as a major centre of learning in Engineering, Science and several Inter-disciplinary Areas. The Institute has been served by illustriousDirectors. Not only, has the Institute acted as the breeding ground for ideas and talent, it also has recognized and honoured scholars of distinction. Copyright © 2020', 'beta\\nBelow mentioned is the list of all illustrious Directors who served IITK\\nName\\nDate of Joining\\nDate of relinquishing charge\\n(Late) Dr. P K Kelkar\\n14.12.1959\\n11.04.1970\\n(Late) Dr. M S Muthana\\n12.12.1970\\n24.12.1974\\n(Late) Dr. Jagdish Lal\\n24.12.1974\\n01.05.1976\\n(Late) Dr. A Bhattacharya\\n02.05.1976\\n20.01.1980*\\n(Late) Dr. S Sampath\\n01.03.1981*\\n31.08.1986\\nDr. A K Mallik\\n01.09.1986\\n21.06.1991**\\nDr. R C Malhotra\\n25.05.1992**\\n30.09.1997\\nDr. K A Padmanabhan\\n01.10.1997\\n14.09.2001\\nDr. S G Dhande\\n16.10.2001\\n06.11.2012\\nDr. Indranil Manna\\n07.11.2012\\n06.11.2017\\nDr. Manindra Agrawal (Officiating Director)\\n07.11.2017\\n17.04.2018\\nDr. Abhay Karandikar\\n18.04.2018\\n25.09.2023\\nDr. S Ganesh(Officiating Director)\\n25.09.2023\\n22.04.2024\\nDr. Manindra Agrawal\\n22.04.2024\\n(Current incumbent)\\n* Dr.Venkateswarlu officiated in between\\n** Dr. M P Kapoor officiated in between\\nCopyright © 2020']\n"
     ]
    },
    {
     "name": "stderr",
     "output_type": "stream",
     "text": [
      "\n"
     ]
    }
   ],
   "source": [
    "# breaking data to smaller chunks(processable ones)\n",
    "from tqdm import tqdm\n",
    "small_chunks = []\n",
    "for chonkies in tqdm(big_chunks, desc = \"Chunkifying\"):\n",
    "    for small_chonkies in chunk_text(chonkies):\n",
    "        small_chunks.append(small_chonkies)\n",
    "\n",
    "print(small_chunks[:5])"
   ]
  },
  {
   "cell_type": "code",
   "execution_count": 29,
   "id": "9e78828f",
   "metadata": {},
   "outputs": [
    {
     "name": "stdout",
     "output_type": "stream",
     "text": [
      "65\n"
     ]
    }
   ],
   "source": [
    "print(len(small_chunks))"
   ]
  },
  {
   "cell_type": "code",
   "execution_count": null,
   "id": "ac1deb68",
   "metadata": {},
   "outputs": [],
   "source": [
    "# function to clean data\n",
    "import unicodedata\n",
    "import re\n",
    "\n",
    "def clean_chunk(raw_html):\n",
    "    # removing html code\n",
    "    soup = BeautifulSoup(raw_html, \"html.parser\")\n",
    "    text = soup.get_text(separator=\" \") \n",
    "    # normalising unicode\n",
    "    text = unicodedata.normalize(\"NFKC\", text)\n",
    "\n",
    "    # removing urls and emails\n",
    "    text = re.sub(r\"http\\S+|www\\.\\S+\", \"\", text)\n",
    "    text = re.sub(r\"\\S+@\\S+\", \"\", text)\n",
    "\n",
    "    # fix bad spacing\n",
    "    text = re.sub(r\"\\s+\", \" \", text)\n",
    "\n",
    "    # fix punctuation\n",
    "    text = re.sub(r\"\\.([A-Z])\", r\". \\1\", text)\n",
    "\n",
    "    return text.strip()"
   ]
  },
  {
   "cell_type": "code",
   "execution_count": null,
   "id": "2ff7a620",
   "metadata": {},
   "outputs": [],
   "source": [
    "# cleaning data\n",
    "for i in range(len(small_chunks)):\n",
    "    small_chunks[i] = clean_chunk(small_chunks[i])"
   ]
  },
  {
   "cell_type": "code",
   "execution_count": null,
   "id": "c73bead3",
   "metadata": {},
   "outputs": [],
   "source": [
    "# adding data to dataset\n",
    "import json \n",
    "import os\n",
    "if os.path.exists(\"dataset.json\"):\n",
    "    with open(\"dataset.json\", \"r\", encoding=\"utf-8\") as f:\n",
    "        data = json.load(f)\n",
    "else:\n",
    "    data = []\n",
    "\n",
    "data.extend(small_chunks)\n",
    "\n",
    "with open(\"dataset.json\", \"w\", encoding=\"utf-8\") as f:\n",
    "    json.dump(data, f, indent=2, ensure_ascii=False)"
   ]
  }
 ],
 "metadata": {
  "kernelspec": {
   "display_name": "kitty",
   "language": "python",
   "name": "python3"
  },
  "language_info": {
   "codemirror_mode": {
    "name": "ipython",
    "version": 3
   },
   "file_extension": ".py",
   "mimetype": "text/x-python",
   "name": "python",
   "nbconvert_exporter": "python",
   "pygments_lexer": "ipython3",
   "version": "3.10.16"
  }
 },
 "nbformat": 4,
 "nbformat_minor": 5
}
